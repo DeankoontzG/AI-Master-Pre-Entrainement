{
 "cells": [
  {
   "cell_type": "markdown",
   "id": "50706ec1-1661-4630-a738-446087c08524",
   "metadata": {},
   "source": [
    "# Bloc 2 - Structure de données de base"
   ]
  },
  {
   "cell_type": "markdown",
   "id": "59eb4b5a-30b7-4112-b8bb-f3ac91ebc04e",
   "metadata": {},
   "source": [
    "## Partie 0 - Hashabilité"
   ]
  },
  {
   "cell_type": "markdown",
   "id": "db7b08cb-eccb-4134-8663-cc1cfe0e1d80",
   "metadata": {
    "jupyter": {
     "source_hidden": true
    }
   },
   "source": [
    "Le langage associe à chaque objet qui peut l'être un **hash**. Le hash est calculé à base de la valeur de l'objet, en résumant cette valeur pour gagner en vitesse dans certaines opérations.\n",
    "\n",
    "Pour être hashable, un type d'objet doit être **immuable**, aka inchangeable (opposé de **mutable**), c-a-d qu'on ne puisse pas le modifier et qu'en fait le langage re-créé un nouvel objet à chaque modification. Petit récap sur qq types d'objets :\n",
    "\n",
    "| Type                  | Mutable ?  | Changement = nouveau objet ? | Hashable ? | Utilisable comme clé ? |\n",
    "| --------------------- | ---------- | ---------------------------- | ---------- | ---------------------- |\n",
    "| `int`, `str`, `tuple` | ❌ Immuable | ✅ Oui                        | ✅ Oui      | ✅                      |\n",
    "| `list`, `dict`, `set` | ✅ Oui      | ❌ Non (modifiés en place)    | ❌ Non      | ❌ Non                  |\n"
   ]
  },
  {
   "cell_type": "markdown",
   "id": "2d81940d-e559-413c-b902-f3dcb47224c7",
   "metadata": {},
   "source": [
    "## 🧠 Partie A – Les structures de base natives Python"
   ]
  },
  {
   "cell_type": "markdown",
   "id": "65226ba9-305c-4db8-9aa1-7864b25137bd",
   "metadata": {
    "jupyter": {
     "source_hidden": true
    }
   },
   "source": [
    "### list\n",
    "\n",
    "#### ✅ Définition\n",
    "Une `list` est une séquence **mutable** et **ordonnée** d’objets. Chaque élément est accessible par son **index**.\n",
    "\n",
    "```python\n",
    "fruits = [\"pomme\", \"banane\", \"cerise\"]\n",
    "```\n",
    "\n",
    "#### ⚙️ Méthodes principales\n",
    "\n",
    "| Opération              | Code                         | Complexité  |\n",
    "| ---------------------- | ---------------------------- | ----------- |\n",
    "| Accès par index        | `x = fruits[1]`              | O(1)        |\n",
    "| Modification           | `fruits[0] = \"orange\"`       | O(1)        |\n",
    "| Ajout en fin           | `fruits.append(\"kiwi\")`      | O(1) amorti |\n",
    "| Insertion              | `fruits.insert(1, \"mangue\")` | O(n)        |\n",
    "| Suppression par valeur | `fruits.remove(\"banane\")`    | O(n)        |\n",
    "| Suppression par index  | `del fruits[1]` ou `pop(1)`  | O(n)        |\n",
    "| Parcours               | `for fruit in fruits:`       | O(n)        |\n",
    "| Tri                    | `fruits.sort()`              | O(n log n)  |\n",
    "| Vérifier appartenance  | `\"pomme\" in fruits`          | O(n)        |\n",
    "\n",
    "🧠 Points à retenir\n",
    "- Une liste peut contenir n'importe quel type d'objet (mélange possible, mais à éviter pour la clarté).\n",
    "- Structure linéaire, doublée en mémoire (réallocation automatique → append() rapide).\n",
    "- Utilisée pour files, piles simples, tableaux 1D, 2D (liste de listes), buffers, etc.\n"
   ]
  },
  {
   "cell_type": "markdown",
   "id": "13a27e02-f759-47bd-a2d1-f0eb213ceffc",
   "metadata": {
    "jupyter": {
     "source_hidden": true
    }
   },
   "source": [
    "### `tuple` (n-uplet Python)\n",
    "\n",
    "#### ✅ Définition\n",
    "Un `tuple` est une séquence **immutable** et **ordonnée**. Une fois créé, on ne peut **ni modifier, ni ajouter, ni supprimer** ses éléments.\n",
    "\n",
    "```python\n",
    "coord = (3, 4)\n",
    "```\n",
    "\n",
    "Utilisé pour :\n",
    "- Des données fixes (ex. : coordonnées, paires clé-valeur temporaires, retours de fonctions)\n",
    "- Être une clé de dictionnaire (car hashable contrairement à une list)\n",
    "- \n",
    "#### ⚙️ Méthodes principales\n",
    "| Opération              | Code               | Complexité |\n",
    "| ---------------------- | ------------------ | ---------- |\n",
    "| Accès par index        | `x = coord[0]`     | O(1)       |\n",
    "| Parcours               | `for x in coord:`  | O(n)       |\n",
    "| Appartenance           | `3 in coord`       | O(n)       |\n",
    "| Longueur               | `len(coord)`       | O(1)       |\n",
    "| Index d’un élément     | `coord.index(4)`   | O(n)       |\n",
    "| Compter une valeur     | `coord.count(3)`   | O(n)       |\n",
    "| Concaténation          | `coord + (5, 6)`   | O(n)       |\n",
    "| Conversion depuis list | `tuple([1, 2, 3])` | O(n)       |\n",
    "\n",
    "🧠 Points à retenir\n",
    "- Immuable → plus sûr, plus rapide, et utilisable comme clé de dict ou élément de set.\n",
    "- Moins de mémoire que list.\n",
    "- Très utilisé dans les retours de fonctions et en décomposition multiple :"
   ]
  },
  {
   "cell_type": "markdown",
   "id": "50bce2b6-c24c-4eec-b8a4-10ca1dc82e46",
   "metadata": {
    "jupyter": {
     "source_hidden": true
    }
   },
   "source": [
    "### `dict` (dictionnaire Python)\n",
    "\n",
    "#### ✅ Définition\n",
    "Un `dict` est une **table de hachage** qui associe des **clés uniques** à des **valeurs**. C’est une structure **non ordonnée jusqu’à Python 3.6, ordonnée depuis 3.7+** (ordre d’insertion conservé).\n",
    "\n",
    "```python\n",
    "capitales = {\"France\": \"Paris\", \"Japon\": \"Tokyo\"}\n",
    "```\n",
    "\n",
    "#### ⚙️ Méthodes principales\n",
    "| Opération                        | Code                                 | Complexité |\n",
    "| -------------------------------- | ------------------------------------ | ---------- |\n",
    "| Accès / modif valeur             | `capitales[\"France\"]`                | O(1)       |\n",
    "| Ajout / modif                    | `capitales[\"Allemagne\"] = \"Berlin\"`  | O(1)       |\n",
    "| Suppression                      | `del capitales[\"Japon\"]`             | O(1)       |\n",
    "| Vérifier existence d'une clé     | `\"France\" in capitales`              | O(1)       |\n",
    "| Obtenir liste des clés           | `capitales.keys()`                   | O(1)       |\n",
    "| Obtenir liste des valeurs        | `capitales.values()`                 | O(1)       |\n",
    "| Obtenir paires clé/valeur        | `capitales.items()`                  | O(1)       |\n",
    "| Parcourir le dictionnaire        | `for k, v in capitales.items():`     | O(n)       |\n",
    "| Récupérer avec valeur par défaut | `capitales.get(\"Italie\", \"Inconnu\")` | O(1)       |\n",
    "| Récupérer + supprimer            | `capitales.pop(\"Japon\")`             | O(1)       |\n",
    "| Vider le dict                    | `capitales.clear()`                  | O(n)       |\n",
    "\n",
    "🧠 Points à retenir\n",
    "- Clés doivent être immutables (ex: str, int, tuple) → pas de list ou dict comme clé.\n",
    "- Hyper rapide : basé sur une table de hachage, donc accès direct par clé (O(1)).\n",
    "- Très utile pour : indexer des données, compter, encoder, mapper, parser du JSON, etc."
   ]
  },
  {
   "cell_type": "markdown",
   "id": "06b4b940-e217-47aa-9f31-3d67e6b457a4",
   "metadata": {
    "jupyter": {
     "source_hidden": true
    }
   },
   "source": [
    "### `set`\n",
    "\n",
    "#### Définition\n",
    "Un `set` est une collection **non ordonnée** d’éléments **uniques** et **hashables**.  \n",
    "C’est l’équivalent d’un dictionnaire sans valeurs associées, uniquement les clés.\n",
    "\n",
    "#### Propriétés clés\n",
    "\n",
    "- Contient des éléments **uniques** (pas de doublons)\n",
    "- Les éléments doivent être **hashables** (immutables)\n",
    "- Non indexé : pas d’accès par position (pas de `s[0]`)\n",
    "- Opérations en temps moyen constant pour ajout, suppression et test d’appartenance (grâce au hash)\n",
    "\n",
    "#### Création\n",
    "\n",
    "```python\n",
    "s = {1, 2, 3}\n",
    "s2 = set([4, 5, 6])\n",
    "```\n",
    "\n",
    "#### Méthodes principales\n",
    "| Méthode             | Description                          | Complexité moyenne |\n",
    "|---------------------|------------------------------------|-------------------|\n",
    "| `add(x)`            | Ajoute l’élément `x`                | O(1) amorti       |\n",
    "| `remove(x)`         | Supprime `x` (erreur si absent)    | O(1) amorti       |\n",
    "| `discard(x)`        | Supprime `x` sans erreur si absent | O(1) amorti       |\n",
    "| `pop()`             | Retire un élément arbitraire        | O(1) amorti       |\n",
    "| `clear()`           | Vide le set                        | O(n)              |\n",
    "| `copy()`            | Copie le set                      | O(n)              |\n",
    "| `update(iterable)`  | Ajoute plusieurs éléments          | O(k) où k = taille iterable |"
   ]
  },
  {
   "cell_type": "markdown",
   "id": "4a617905-d785-486d-a0cf-a466e9facd62",
   "metadata": {},
   "source": [
    "## Partie B - Structures dérivées ou spécialisées"
   ]
  },
  {
   "cell_type": "markdown",
   "id": "2db5a773-6364-4389-b98e-4e417dfcef52",
   "metadata": {
    "jupyter": {
     "source_hidden": true
    }
   },
   "source": [
    "### Piles et files avec deque (collections)\n",
    "#### Définition\n",
    "\n",
    "Un `deque` (double-ended queue) est une structure de données similaire aux **list** mais optimisée pour l’ajout et la suppression d’éléments **aux deux extrémités** en temps constant (O(1) VS O(n) pour list pour pop(O) et insert (0, x))\n",
    "\n",
    "C’est plus performant qu’une liste Python classique quand on travaille en file ou pile, car les opérations en tête de liste sont coûteuses avec une `list`.\n",
    "\n",
    "---\n",
    "\n",
    "#### Import et création\n",
    "\n",
    "```python\n",
    "from collections import deque\n",
    "\n",
    "d = deque()          # crée un deque vide\n",
    "d2 = deque([1, 2, 3])  # crée un deque initialisé\n",
    "```\n",
    "\n",
    "#### Principales opérations\n",
    "| Méthode                | Description                                        | Complexité |\n",
    "| ---------------------- | -------------------------------------------------- | ---------- |\n",
    "| `append(x)`            | Ajoute `x` à la **fin**                            | O(1)       |\n",
    "| `appendleft(x)`        | Ajoute `x` au **début**                            | O(1)       |\n",
    "| `pop()`                | Retire et renvoie l’élément de la **fin**          | O(1)       |\n",
    "| `popleft()`            | Retire et renvoie l’élément du **début**           | O(1)       |\n",
    "| `extend(iterable)`     | Ajoute plusieurs éléments à la fin                 | O(k)       |\n",
    "| `extendleft(iterable)` | Ajoute plusieurs éléments au début (ordre inversé) | O(k)       |\n",
    "| `clear()`              | Vide le deque                                      | O(n)       |\n",
    "\n",
    "Utilisations classiques : \n",
    "- Pile (LIFO) : append() + pop()\n",
    "- File (FIFO) : append() + popleft()"
   ]
  },
  {
   "cell_type": "markdown",
   "id": "b8e5d1a4-a359-4d6f-90d7-ad12bbce8b31",
   "metadata": {
    "jupyter": {
     "source_hidden": true
    }
   },
   "source": [
    "### Heaps (avec `heapq`)\n",
    "\n",
    "### Définition\n",
    "\n",
    "Un **tas** (heap) est une structure de données qui maintient un ordre partiel :  \n",
    "- En Python, le module `heapq` implémente un **min-heap**, c'est-à-dire que le **plus petit élément est toujours à la racine** (index 0)\n",
    "- Liste pas totalement triée; lesautres éléments ne sont pas classés juste le 1er\n",
    "- Pour faire un **max-heap**, utiliser `heapq`mais en sotckant l'inverse mathématique des valeurs.\n",
    "\n",
    "Un heap est souvent utilisé pour :\n",
    "- Obtenir rapidement le plus petit (ou plus grand) élément\n",
    "- Implémenter une file de priorité efficace\n",
    "\n",
    "### Import et création\n",
    "\n",
    "```python\n",
    "import heapq\n",
    "\n",
    "heap = []\n",
    "heapq.heappush(heap, 3)\n",
    "heapq.heappush(heap, 1)\n",
    "heapq.heappush(heap, 5)\n",
    "print(heap)  # [1, 3, 5]\n",
    "```\n",
    "\n",
    "### Méthodes principales : \n",
    "| Fonction                 | Description                                | Complexité |\n",
    "| ------------------------ | ------------------------------------------ | ---------- |\n",
    "| `heappush(heap, x)`      | Ajoute `x` dans le heap                    | O(log n)   |\n",
    "| `heappop(heap)`          | Retire et retourne le plus petit élément   | O(log n)   |\n",
    "| `heappushpop(heap, x)`   | Push + Pop en une seule opération efficace | O(log n)   |\n",
    "| `heapify(lst)`           | Transforme une liste en min-heap           | O(n)       |\n",
    "| `heapreplace(heap, x)`   | Pop puis push (moins efficace si x < top)  | O(log n)   |\n",
    "| `nlargest(n, iterable)`  | n plus grands éléments                     | O(n log k) |\n",
    "| `nsmallest(n, iterable)` | n plus petits éléments                     | O(n log k) |\n",
    "\n",
    "Pour info, list.sort() est en O(nlog(n))"
   ]
  },
  {
   "cell_type": "markdown",
   "id": "25f197f2-06a9-487b-a14e-18fe8a2d8634",
   "metadata": {},
   "source": [
    "### Multi-set (ensemble avec comptage)\n",
    "\n",
    "#### Définition\n",
    "\n",
    "Un **multi-set** (ou \"bag\") est comme un `set`, **mais qui compte les occurrences** de chaque élément.  \n",
    "Exemple :  \n",
    "`[\"a\", \"b\", \"a\", \"c\", \"b\", \"a\"]` → `\"a\"` apparaît 3 fois, `\"b\"` 2 fois, `\"c\"` 1 fois.\n",
    "\n",
    "---\n",
    "\n",
    "#### Création standard : `collections.Counter`\n",
    "\n",
    "```python\n",
    "from collections import Counter\n",
    "\n",
    "data = [\"a\", \"b\", \"a\", \"c\", \"b\", \"a\"]\n",
    "counter = Counter(data)\n",
    "print(counter)  # Counter({'a': 3, 'b': 2, 'c': 1})\n",
    "```\n",
    "C’est un **dict** spécial où les valeurs sont des **comptages d’occurrence**.\n",
    "\n",
    "#### Opérations utiles : \n",
    "| Méthode / Opération          | Description                               | Complexité                               |      |\n",
    "| ---------------------------- | ----------------------------------------- | ---------------------------------------- | ---- |\n",
    "| `counter[key]`               | Accès au nombre d’occurrences             | O(1)                                     |      |\n",
    "| `counter.update(iterable)`   | Ajoute les comptages d’un autre iterable  | O(n)                                     |      |\n",
    "| `counter.subtract(iterable)` | Soustrait les comptages                   | O(n)                                     |      |\n",
    "| `+` / `-` / `&` / \\`         | \\`                                        | Opérations entre `Counter` (union, etc.) | O(n) |\n",
    "| `most_common(k)`             | Renvoie les k éléments les plus fréquents | O(n log k)                               |      |\n",
    "| `elements()`                 | Itère sur tous les éléments               | O(n)                                     |      |"
   ]
  },
  {
   "cell_type": "markdown",
   "id": "928ace04-7786-4ae1-8a6c-d221337beb3f",
   "metadata": {
    "jupyter": {
     "source_hidden": true
    }
   },
   "source": [
    "### Tableaux 2D et Matrices\n",
    "\n",
    "#### Définition\n",
    "\n",
    "Une **matrice** en Python est généralement représentée par une **liste de listes** :  \n",
    "Chaque ligne est une liste, et la matrice est une liste de ces lignes.\n",
    "\n",
    "```python\n",
    "matrice = [\n",
    "    [1, 2, 3],\n",
    "    [4, 5, 6],\n",
    "    [7, 8, 9]\n",
    "]\n",
    "```\n",
    "\n",
    "Liens utiles pour matrices numériques\n",
    "- `numpy` pour Matrices numériques, opérations rapides\n",
    "- `pandas` pour Données tabulaires (DataFrames), c-a-d données organisées en lignes et colonnes, comme dans Excel ou une BDD.\n",
    "\n",
    "### Numpy, fonctions utiles :\n",
    "| Fonction                   | Description                                   | Complexité approx. |\n",
    "|---------------------------|-----------------------------------------------|--------------------|\n",
    "| `A.T`                     | Transposée                                    | O(n × m)           |\n",
    "| `np.dot(A, B)` ou `A @ B` | Produit matriciel                             | O(n × m × p)       |\n",
    "| `np.linalg.inv(A)`        | Inverse d’une matrice                         | O(n³)              |\n",
    "| `np.linalg.det(A)`        | Déterminant                                   | O(n³)              |\n",
    "| `np.diag(A)`              | Extrait la diagonale                          | O(n)               |\n",
    "| `np.diag(v)`              | Crée matrice diagonale depuis vecteur         | O(n²)              |\n",
    "| `np.linalg.eig(A)`        | Diagonalisation (valeurs & vecteurs propres)  | O(n³)              |\n",
    "| `np.trace(A)`             | Somme des éléments diagonaux                  | O(n)               |\n",
    "| `np.linalg.norm(A)`       | Norme (euclidienne par défaut)                | O(n × m)           |\n",
    "| `np.linalg.solve(A, B)`   | Résout AX = B                                 | O(n³)              |\n",
    "| `np.linalg.svd(A)`        | Décomposition SVD                             | O(n² × m)          |\n",
    "\n",
    "### Pandas, fonctions utiles : \n",
    "| Fonction                       | Description                                    | Complexité approx. |\n",
    "|-------------------------------|------------------------------------------------|--------------------|\n",
    "| `df[\"col\"]`                   | Accès à une colonne                           | O(1)               |\n",
    "| `df.loc[i]` / `df.iloc[i]`    | Accès à une ligne                             | O(1)               |\n",
    "| `df.sort_values(\"col\")`       | Tri d’après une colonne                       | O(n log n)         |\n",
    "| `df.drop(...)`                | Supprimer lignes / colonnes                   | O(n)               |\n",
    "| `df.fillna(...)`              | Remplir les NaN (valeurs manquantes)          | O(n)               |\n",
    "| `df.isna()`                   | Détection de NaN                              | O(n)               |\n",
    "| `df.groupby(\"col\")`           | Regroupement + aggrégation                    | O(n)               |\n",
    "| `df.merge(...)`               | Jointure entre 2 DataFrames                   | O(n log n)         |\n",
    "| `df.apply(func)`              | Appliquer fonction ligne / colonne            | O(n) ou +          |\n",
    "| `df.describe()`               | Statistiques de base                          | O(n)               |\n",
    "| `df.to_csv(...)`              | Export CSV                                    | O(n)               |\n",
    "| `pd.read_csv(...)`            | Lecture CSV                                   | O(n)               |"
   ]
  },
  {
   "cell_type": "code",
   "execution_count": null,
   "id": "87b4640c-922c-41d2-9641-4e97e6f092d8",
   "metadata": {},
   "outputs": [],
   "source": []
  }
 ],
 "metadata": {
  "kernelspec": {
   "display_name": "Python 3 (ipykernel)",
   "language": "python",
   "name": "python3"
  },
  "language_info": {
   "codemirror_mode": {
    "name": "ipython",
    "version": 3
   },
   "file_extension": ".py",
   "mimetype": "text/x-python",
   "name": "python",
   "nbconvert_exporter": "python",
   "pygments_lexer": "ipython3",
   "version": "3.11.9"
  }
 },
 "nbformat": 4,
 "nbformat_minor": 5
}
