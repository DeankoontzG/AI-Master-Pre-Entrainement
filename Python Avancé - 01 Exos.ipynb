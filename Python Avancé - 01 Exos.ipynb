{
 "cells": [
  {
   "cell_type": "code",
   "execution_count": 6,
   "id": "4b54319d-1ccb-4f21-b59a-da12eecce0df",
   "metadata": {},
   "outputs": [
    {
     "data": {
      "text/plain": [
       "['zizi', 'caca', 'pipi']"
      ]
     },
     "execution_count": 6,
     "metadata": {},
     "output_type": "execute_result"
    }
   ],
   "source": [
    "def fusionner_noms(*args, **kwargs):\n",
    "    tous_les_noms = list(args) + list(kwargs.values())\n",
    "    return tous_les_noms\n",
    "\n",
    "fusionner_noms(\"zizi\", \"caca\", pipi = \"pipi\")\n"
   ]
  },
  {
   "cell_type": "code",
   "execution_count": 11,
   "id": "d3e27af8-392b-4c95-be3e-7db5869f3327",
   "metadata": {},
   "outputs": [
    {
     "name": "stdout",
     "output_type": "stream",
     "text": [
      "[('Alice', 17), ('Charlie', 15), ('Bob', 12)]\n",
      "[('Alice', 17), ('Bob', 12), ('Charlie', 15)]\n"
     ]
    }
   ],
   "source": [
    "eleves = [(\"Alice\", 17), (\"Bob\", 12), (\"Charlie\", 15)]\n",
    "\n",
    "tri_notes = sorted(eleves, key=lambda x: x[1], reverse=True)\n",
    "tri_noms = sorted(eleves, key=lambda x: x[0], reverse=False)\n",
    "print(tri_notes)\n",
    "print(tri_noms)"
   ]
  },
  {
   "cell_type": "code",
   "execution_count": 17,
   "id": "f966f368-c1db-46b9-8253-4acfa2d439e7",
   "metadata": {},
   "outputs": [
    {
     "name": "stdout",
     "output_type": "stream",
     "text": [
      "Décocomuniste lancé, ça va décorer sec ma gueule\n",
      "LOG : Fonction lancée\n",
      "Mais Nicolas, t'es tout mou ! \n",
      "LOG : Fonction terminée\n",
      "LOG : Fonction lancée\n",
      "Mais Julien, t'es tout mou ! \n",
      "LOG : Fonction terminée\n"
     ]
    }
   ],
   "source": [
    "def decocomuniste(fonction) :\n",
    "    print(\"Décocomuniste lancé, ça va décorer sec ma gueule\")\n",
    "    def wrapper(*args, **kwargs) :\n",
    "        print(\"LOG : Fonction lancée\")\n",
    "        result = fonction(*args, **kwargs)\n",
    "        print(\"LOG : Fonction terminée\")\n",
    "        return result\n",
    "    return wrapper\n",
    "\n",
    "@decocomuniste\n",
    "def MenShaming(Prenom) :\n",
    "    print (f\"Mais {Prenom}, t'es tout mou ! \")\n",
    "\n",
    "MenShaming(\"Nicolas\")\n",
    "MenShaming(\"Julien\")\n",
    "    "
   ]
  },
  {
   "cell_type": "code",
   "execution_count": 22,
   "id": "e7a34453-ff2a-488b-979f-376482f1ccdd",
   "metadata": {},
   "outputs": [
    {
     "name": "stdout",
     "output_type": "stream",
     "text": [
      "1\n",
      "4\n"
     ]
    }
   ],
   "source": [
    "def creer_compteur_perso() : \n",
    "    compteur_perso = 0\n",
    "    def incrementer() : \n",
    "        nonlocal compteur_perso\n",
    "        compteur_perso +=1\n",
    "        return compteur_perso\n",
    "    return incrementer\n",
    "\n",
    "InstanceDeCompteur = creer_compteur_perso()\n",
    "\n",
    "print(InstanceDeCompteur())\n",
    "InstanceDeCompteur()\n",
    "InstanceDeCompteur()\n",
    "print (InstanceDeCompteur())"
   ]
  },
  {
   "cell_type": "code",
   "execution_count": 43,
   "id": "0f884b2d-55ed-4c60-bae9-54469934d541",
   "metadata": {},
   "outputs": [
    {
     "name": "stdout",
     "output_type": "stream",
     "text": [
      "[0]\n",
      "[0]\n",
      "[0]\n",
      "[0]\n",
      "[0, 2]\n",
      "[0, 2]\n",
      "[0, 2]\n",
      "[0, 2, 4]\n",
      "[0, 2]\n",
      "[0, 2, 4]\n"
     ]
    }
   ],
   "source": [
    "def pairs_inf(n) : \n",
    "    i = 0\n",
    "    result = []\n",
    "    while(i<n) :\n",
    "        if(i%2 == 0) : \n",
    "            result.append(i)\n",
    "        yield result.copy()\n",
    "        i+=1\n",
    "\n",
    "gen = pairs_inf(8)\n",
    "genBis = pairs_inf(10)\n",
    "print(next(gen))\n",
    "print(next(genBis))\n",
    "print(next(genBis))\n",
    "print(next(gen))\n",
    "print(next(genBis))\n",
    "print(next(gen))\n",
    "print(next(genBis))\n",
    "print(next(genBis))\n",
    "print(next(gen))\n",
    "print(next(genBis))"
   ]
  },
  {
   "cell_type": "code",
   "execution_count": 52,
   "id": "7750764f-b33b-4c44-94c0-099be382eb51",
   "metadata": {},
   "outputs": [
    {
     "name": "stdout",
     "output_type": "stream",
     "text": [
      "[0, 4, 16, 36, 64, 100, 144, 196, 256, 324]\n",
      "[64, 100, 144, 196, 256, 324]\n"
     ]
    }
   ],
   "source": [
    "carres_to_twenty = [x**2 for x in range(20) if x%2 == 0]\n",
    "print(carres_to_twenty)\n",
    "\n",
    "carres_sub_50 = list(filter(lambda x:x>50, carres_to_twenty))\n",
    "print(carres_sub_50)"
   ]
  },
  {
   "cell_type": "code",
   "execution_count": 59,
   "id": "ea724e4e-3b2c-4173-b043-57eabdd8b471",
   "metadata": {},
   "outputs": [
    {
     "name": "stdout",
     "output_type": "stream",
     "text": [
      "[(0, 1), (0, 2), (1, 0), (1, 2), (2, 0), (2, 1)]\n"
     ]
    }
   ],
   "source": [
    "couple_list = [(x,y) for x in range(3) for y in range(3) if x != y]\n",
    "print(couple_list)"
   ]
  },
  {
   "cell_type": "code",
   "execution_count": null,
   "id": "6847233d-1878-4405-9245-bd78e6abcfe6",
   "metadata": {},
   "outputs": [],
   "source": []
  }
 ],
 "metadata": {
  "kernelspec": {
   "display_name": "Python 3 (ipykernel)",
   "language": "python",
   "name": "python3"
  },
  "language_info": {
   "codemirror_mode": {
    "name": "ipython",
    "version": 3
   },
   "file_extension": ".py",
   "mimetype": "text/x-python",
   "name": "python",
   "nbconvert_exporter": "python",
   "pygments_lexer": "ipython3",
   "version": "3.11.9"
  }
 },
 "nbformat": 4,
 "nbformat_minor": 5
}
